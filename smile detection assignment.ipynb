{
 "cells": [
  {
   "cell_type": "code",
   "execution_count": 9,
   "id": "342ddd94",
   "metadata": {},
   "outputs": [],
   "source": [
    "# !pip install opencv-python"
   ]
  },
  {
   "cell_type": "code",
   "execution_count": 1,
   "id": "1cfa53c3",
   "metadata": {},
   "outputs": [],
   "source": [
    "import cv2"
   ]
  },
  {
   "cell_type": "code",
   "execution_count": 2,
   "id": "414dd40f",
   "metadata": {},
   "outputs": [],
   "source": [
    "smile_det=cv2.CascadeClassifier('haarcascade_smile.xml')"
   ]
  },
  {
   "cell_type": "code",
   "execution_count": 3,
   "id": "3c7837c1",
   "metadata": {},
   "outputs": [
    {
     "data": {
      "text/plain": [
       "array([[[255, 255, 255],\n",
       "        [255, 255, 255],\n",
       "        [255, 255, 255],\n",
       "        ...,\n",
       "        [184, 203, 209],\n",
       "        [184, 203, 209],\n",
       "        [184, 203, 209]],\n",
       "\n",
       "       [[255, 255, 255],\n",
       "        [255, 255, 255],\n",
       "        [255, 255, 255],\n",
       "        ...,\n",
       "        [184, 203, 209],\n",
       "        [184, 203, 209],\n",
       "        [184, 203, 209]],\n",
       "\n",
       "       [[255, 255, 255],\n",
       "        [255, 255, 255],\n",
       "        [255, 255, 255],\n",
       "        ...,\n",
       "        [184, 203, 209],\n",
       "        [184, 203, 209],\n",
       "        [184, 203, 209]],\n",
       "\n",
       "       ...,\n",
       "\n",
       "       [[227, 238, 252],\n",
       "        [227, 238, 252],\n",
       "        [227, 238, 252],\n",
       "        ...,\n",
       "        [184, 205, 224],\n",
       "        [179, 202, 221],\n",
       "        [176, 200, 219]],\n",
       "\n",
       "       [[227, 238, 252],\n",
       "        [227, 238, 252],\n",
       "        [227, 238, 252],\n",
       "        ...,\n",
       "        [177, 198, 217],\n",
       "        [168, 191, 210],\n",
       "        [162, 187, 206]],\n",
       "\n",
       "       [[227, 238, 252],\n",
       "        [227, 238, 252],\n",
       "        [227, 238, 252],\n",
       "        ...,\n",
       "        [173, 193, 213],\n",
       "        [160, 183, 202],\n",
       "        [152, 178, 196]]], dtype=uint8)"
      ]
     },
     "execution_count": 3,
     "metadata": {},
     "output_type": "execute_result"
    }
   ],
   "source": [
    "img=cv2.imread(r'C:\\Users\\DELL\\Desktop\\efg.webp',\n",
    "               cv2.COLOR_BGR2GRAY)\n",
    "img"
   ]
  },
  {
   "cell_type": "code",
   "execution_count": 13,
   "id": "80bd8cdd",
   "metadata": {},
   "outputs": [],
   "source": [
    "cv2.imshow(\"image\",img)  # open a new window to show the image\n",
    "cv2.waitKey(0)          # if you want to close the image press 0\n",
    "cv2.destroyAllWindows() # the window will be closed"
   ]
  },
  {
   "cell_type": "code",
   "execution_count": 14,
   "id": "0fdde98e",
   "metadata": {},
   "outputs": [],
   "source": [
    "# all together\n",
    "# we are reading an image\n",
    "# we are showing the imgage\n",
    "# we are applying a wait key\n",
    "# we are closing the image\n",
    "img=cv2.imread(r'C:\\Users\\DELL\\Desktop\\efg.webp',\n",
    "               cv2.COLOR_BGR2GRAY)\n",
    "cv2.imshow(\"image\",img)  # open a new window to show the image\n",
    "cv2.waitKey(0)          # if you want to close the image press 0\n",
    "cv2.destroyAllWindows()"
   ]
  },
  {
   "cell_type": "code",
   "execution_count": 5,
   "id": "35cbd603",
   "metadata": {},
   "outputs": [
    {
     "name": "stdout",
     "output_type": "stream",
     "text": [
      "[[101 420  99  49]\n",
      " [407 444 113  56]\n",
      " [247 468  92  46]]\n",
      "101 420\n",
      "99 49\n",
      "407 444\n",
      "113 56\n",
      "247 468\n",
      "92 46\n"
     ]
    }
   ],
   "source": [
    "img=cv2.imread(r'C:\\Users\\DELL\\Desktop\\efg.webp',\n",
    "               cv2.COLOR_BGR2GRAY)\n",
    "smile_det=cv2.CascadeClassifier('haarcascade_smile.xml')\n",
    "smiles=smile_det.detectMultiScale(img,1.1,55)\n",
    "print(smiles)\n",
    "for (x,y,w,h) in smiles:\n",
    "    print(x,y)\n",
    "    print(w,h)\n",
    "    cv2.rectangle(img,(x,y),(x+w,y+h),(0,0,255),3)   # B G  R  Red Is ON"
   ]
  },
  {
   "cell_type": "code",
   "execution_count": 6,
   "id": "d1ed90c0",
   "metadata": {},
   "outputs": [],
   "source": [
    "cv2.imshow('image',img)\n",
    "cv2.waitKey(0)\n",
    "cv2.destroyAllWindows()"
   ]
  },
  {
   "cell_type": "code",
   "execution_count": null,
   "id": "390c731f",
   "metadata": {},
   "outputs": [],
   "source": []
  }
 ],
 "metadata": {
  "kernelspec": {
   "display_name": "Python 3 (ipykernel)",
   "language": "python",
   "name": "python3"
  },
  "language_info": {
   "codemirror_mode": {
    "name": "ipython",
    "version": 3
   },
   "file_extension": ".py",
   "mimetype": "text/x-python",
   "name": "python",
   "nbconvert_exporter": "python",
   "pygments_lexer": "ipython3",
   "version": "3.11.5"
  }
 },
 "nbformat": 4,
 "nbformat_minor": 5
}
